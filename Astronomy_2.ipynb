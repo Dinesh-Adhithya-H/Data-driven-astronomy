{
 "cells": [
  {
   "cell_type": "markdown",
   "metadata": {},
   "source": [
    "# Right ascension from HMS to decimal degrees, called hms2dec, and another that converts declination from DMS to decimal degrees, called dms2dec."
   ]
  },
  {
   "cell_type": "code",
   "execution_count": 33,
   "metadata": {},
   "outputs": [],
   "source": [
    "def hms2dec(a,b,c):\n",
    "    return(15*(a+ b/60 + c/(60*60)))\n",
    "def dms2dec(a,b,c):\n",
    "    if a>0:\n",
    "        return((a+ b/60 + c/(60*60)))\n",
    "    else:\n",
    "        return(-(-a+ b/60 + c/(60*60)))"
   ]
  },
  {
   "cell_type": "code",
   "execution_count": 34,
   "metadata": {},
   "outputs": [
    {
     "data": {
      "text/plain": [
       "-5.52"
      ]
     },
     "execution_count": 34,
     "metadata": {},
     "output_type": "execute_result"
    }
   ],
   "source": [
    "dms2dec(-5,31,12)"
   ]
  },
  {
   "cell_type": "markdown",
   "metadata": {},
   "source": [
    "# Angular_dist that calculates the angular distance between any two points on the celestial sphere given their right ascension and declination."
   ]
  },
  {
   "cell_type": "code",
   "execution_count": 35,
   "metadata": {},
   "outputs": [],
   "source": [
    "import numpy as np\n",
    "def angular_dist(ra1,dec1,ra2,dec2):\n",
    "    ra1 = np.radians(ra1)\n",
    "    dec1 = np.radians(dec1)\n",
    "    ra2 = np.radians(ra2)\n",
    "    dec2 = np.radians(dec2)\n",
    "    a=(np.sin(0.5*np.abs(dec1-dec2)))**2\n",
    "    b=np.cos(dec1)*np.cos(dec2)*(np.sin(0.5*np.abs(ra1-ra2)))**2\n",
    "    c=2*(np.arcsin((a+b)**0.5))\n",
    "    return(np.degrees(c))"
   ]
  },
  {
   "cell_type": "code",
   "execution_count": 36,
   "metadata": {},
   "outputs": [
    {
     "data": {
      "text/plain": [
       "8.100392318146504"
      ]
     },
     "execution_count": 36,
     "metadata": {},
     "output_type": "execute_result"
    }
   ],
   "source": [
    "ra1, dec1 = 21.07, 0.1\n",
    "ra2, dec2 = 21.15, 8.2\n",
    "angular_dist(ra1, dec1, ra2, dec2)"
   ]
  },
  {
   "cell_type": "markdown",
   "metadata": {},
   "source": [
    "# Import_bss and import_super functions that import the AT20G BSS and SuperCOSMOS catalogues from the files bss.dat and super.csv "
   ]
  },
  {
   "cell_type": "code",
   "execution_count": 37,
   "metadata": {},
   "outputs": [],
   "source": [
    "import numpy as np\n",
    "def import_bss():\n",
    "    file=np.loadtxt(\"bss.dat\",usecols=range(1,7))\n",
    "    return(file)"
   ]
  },
  {
   "cell_type": "code",
   "execution_count": 38,
   "metadata": {},
   "outputs": [
    {
     "data": {
      "text/plain": [
       "array([  0.  ,   4.  ,  35.65, -47.  ,  36.  ,  19.1 ])"
      ]
     },
     "execution_count": 38,
     "metadata": {},
     "output_type": "execute_result"
    }
   ],
   "source": [
    "file[0]"
   ]
  },
  {
   "cell_type": "code",
   "execution_count": 39,
   "metadata": {},
   "outputs": [],
   "source": [
    "def import_super():\n",
    "    file1=np.loadtxt(\"super.csv\",delimiter=\",\",skiprows=1,usecols=[0,1])\n",
    "    return(file1)"
   ]
  },
  {
   "cell_type": "code",
   "execution_count": 40,
   "metadata": {},
   "outputs": [
    {
     "data": {
      "text/plain": [
       "array([[  1.0583407, -52.9162402],\n",
       "       [  2.6084425, -41.5005753],\n",
       "       [  2.7302499, -27.706955 ]])"
      ]
     },
     "execution_count": 40,
     "metadata": {},
     "output_type": "execute_result"
    }
   ],
   "source": [
    "file1"
   ]
  },
  {
   "cell_type": "markdown",
   "metadata": {},
   "source": [
    "# Crossmatching the BSS and SuperCOSMOS catalogues"
   ]
  },
  {
   "cell_type": "code",
   "execution_count": 41,
   "metadata": {},
   "outputs": [],
   "source": [
    "def find_closest(cat, ra, dec):\n",
    "    min_dist = np.inf\n",
    "    min_id = None\n",
    "    for id1, ra1, dec1 in cat:\n",
    "        dist = angular_dist(ra1, dec1, ra, dec)\n",
    "        if dist < min_dist:\n",
    "            min_id = id1\n",
    "            min_dist = dist\n",
    "    return min_id, min_dist"
   ]
  },
  {
   "cell_type": "code",
   "execution_count": 42,
   "metadata": {},
   "outputs": [],
   "source": [
    "bss_cat = import_bss()\n",
    "super_cat = import_super()"
   ]
  },
  {
   "cell_type": "code",
   "execution_count": null,
   "metadata": {},
   "outputs": [],
   "source": []
  },
  {
   "cell_type": "code",
   "execution_count": null,
   "metadata": {},
   "outputs": [],
   "source": []
  }
 ],
 "metadata": {
  "kernelspec": {
   "display_name": "Python 3",
   "language": "python",
   "name": "python3"
  },
  "language_info": {
   "codemirror_mode": {
    "name": "ipython",
    "version": 3
   },
   "file_extension": ".py",
   "mimetype": "text/x-python",
   "name": "python",
   "nbconvert_exporter": "python",
   "pygments_lexer": "ipython3",
   "version": "3.7.6"
  }
 },
 "nbformat": 4,
 "nbformat_minor": 4
}
